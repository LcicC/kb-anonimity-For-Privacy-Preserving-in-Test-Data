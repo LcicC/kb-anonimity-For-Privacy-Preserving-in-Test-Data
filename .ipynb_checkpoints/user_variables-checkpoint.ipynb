{
 "cells": [
  {
   "cell_type": "code",
   "execution_count": null,
   "metadata": {},
   "outputs": [],
   "source": [
    "# Specify the range of values for each attribute\n",
    "attr_to_change = {\n",
    "    \"1\": [0,28],\n",
    "    \"3\": [2,6],\n",
    "    \"5\": [100,400],\n",
    "    \"8\": [25,60],\n",
    "    \"13\": [0,4],\n",
    "    \"14\": [0,1],\n",
    "    \"15\": [0,1],\n",
    "    \"17\": [50,110]\n",
    "}\n",
    "\n",
    "# Default setting \n",
    "attr_with_max_dom = {\n",
    "    \"attr\": -1,\n",
    "    \"dom_card\": -1\n",
    "}\n",
    "\n",
    "\n",
    "# If an attribute has value 1, the algorithm is allowed to remove some constraints\n",
    "attr_relaxed_privacy = {\n",
    "    \"1\": 1,\n",
    "    \"3\": 1,\n",
    "    \"5\": 0,\n",
    "    \"8\": 1,\n",
    "    \"13\": 1,\n",
    "    \"14\": 1,\n",
    "    \"15\": 1,\n",
    "    \"17\": 1\n",
    "}"
   ]
  }
 ],
 "metadata": {
  "kernelspec": {
   "display_name": "Python 3",
   "language": "python",
   "name": "python3"
  },
  "language_info": {
   "codemirror_mode": {
    "name": "ipython",
    "version": 3
   },
   "file_extension": ".py",
   "mimetype": "text/x-python",
   "name": "python",
   "nbconvert_exporter": "python",
   "pygments_lexer": "ipython3",
   "version": "3.7.1"
  }
 },
 "nbformat": 4,
 "nbformat_minor": 2
}
