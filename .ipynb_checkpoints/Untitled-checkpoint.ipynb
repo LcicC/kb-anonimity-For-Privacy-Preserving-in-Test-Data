{
 "cells": [
  {
   "cell_type": "code",
   "execution_count": null,
   "metadata": {},
   "outputs": [],
   "source": [
    "import random\n",
    "\n",
    "# Specify the range of values for each attribute\n",
    "\n",
    "attr_to_change = {\n",
    "    \"1\": [0,28],\n",
    "    \"3\": [2,6],\n",
    "    \"5\": [100,400],\n",
    "    \"8\": [25,60],\n",
    "    \"13\": [0,4],\n",
    "    \"17\": [50,110]\n",
    "}\n",
    "\n",
    "\"\"\" Default setting \"\"\"\n",
    "attr_with_max_dom = {\n",
    "    \"attr\": -1,\n",
    "    \"dom_card\": -1\n",
    "}"
   ]
  }
 ],
 "metadata": {
  "kernelspec": {
   "display_name": "Python 3",
   "language": "python",
   "name": "python3"
  },
  "language_info": {
   "codemirror_mode": {
    "name": "ipython",
    "version": 3
   },
   "file_extension": ".py",
   "mimetype": "text/x-python",
   "name": "python",
   "nbconvert_exporter": "python",
   "pygments_lexer": "ipython3",
   "version": "3.7.1"
  }
 },
 "nbformat": 4,
 "nbformat_minor": 2
}
