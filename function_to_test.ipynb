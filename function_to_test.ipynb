{
 "cells": [
  {
   "cell_type": "code",
   "execution_count": 1,
   "metadata": {},
   "outputs": [
    {
     "ename": "ModuleNotFoundError",
     "evalue": "No module named 'utilities'",
     "output_type": "error",
     "traceback": [
      "\u001b[1;31m---------------------------------------------------------------------------\u001b[0m",
      "\u001b[1;31mModuleNotFoundError\u001b[0m                       Traceback (most recent call last)",
      "\u001b[1;32m<ipython-input-1-3868256f9a74>\u001b[0m in \u001b[0;36m<module>\u001b[1;34m\u001b[0m\n\u001b[1;32m----> 1\u001b[1;33m \u001b[1;32mimport\u001b[0m \u001b[0mutilities\u001b[0m \u001b[1;32mas\u001b[0m \u001b[0mutil\u001b[0m\u001b[1;33m\u001b[0m\u001b[1;33m\u001b[0m\u001b[0m\n\u001b[0m",
      "\u001b[1;31mModuleNotFoundError\u001b[0m: No module named 'utilities'"
     ]
    }
   ],
   "source": [
    "from utilities import get_lambda"
   ]
  },
  {
   "cell_type": "code",
   "execution_count": 2,
   "metadata": {},
   "outputs": [],
   "source": [
    "def test_program(datum, pc):\n",
    "\n",
    "    # If the employee is a drinker\n",
    "    if (datum[14]):\n",
    "        get_lambda(pc, 0, 14, \"==\", 1, 1)\n",
    "        # If the employee is less than 40 years old\n",
    "        if (datum[8] < 40):\n",
    "            get_lambda(pc, 3, 8, \"<\", 40, 1)\n",
    "            # If the employee's weight is greater than 80 Kg\n",
    "            if (datum[17] > 80):\n",
    "                get_lambda(pc, 4, 17, \">\", 80, 1)\n",
    "            else:\n",
    "                get_lambda(pc, 4, 17, \"<=\", 80, 0)\n",
    "        else:\n",
    "            get_lambda(pc, 3, 8, \">=\", 40, 0)\n",
    "            get_lambda(pc, 4, 17, \"None\", -1, \"X\")\n",
    "    else:\n",
    "        get_lambda(pc, 0, 14, \"==\", 0, 0)\n",
    "        get_lambda(pc, 4, 17, \"None\", -1, \"X\")\n",
    "        get_lambda(pc, 3, 8, \"None\", -1, \"X\")\n",
    "\n",
    "    # If the employee is a smoker\n",
    "    if (datum[15]):\n",
    "        get_lambda(pc, 1, 15, \"==\", 1, 1)\n",
    "        # If the employee has got more than one child\n",
    "        if (datum[13] >= 1):\n",
    "            get_lambda(pc, 5, 13, \">=\", 1, 1)\n",
    "        else:\n",
    "            get_lambda(pc, 5, 13, \"<\", 1, 0)\n",
    "    else:\n",
    "        get_lambda(pc, 1, 15, \"==\", 0, 0)\n",
    "        get_lambda(pc, 5, 13, \"None\", -1, \"X\")\n",
    "\n",
    "\n",
    "    # If the absence is unjustified\n",
    "    if (datum[1] == 26):\n",
    "        get_lambda(pc, 2, 1, \"==\", 26, 1)\n",
    "        # If the absence has happened on friday\n",
    "        if (datum[3] == 5):\n",
    "            get_lambda(pc, 6, 3, \"==\", 5, 1)\n",
    "            # If transportation expenses is greater than 200\n",
    "            if (datum[5] > 200):\n",
    "                get_lambda(pc, 7, 5, \">\", 200, 1)\n",
    "            else:\n",
    "                get_lambda(pc, 7, 5, \"<=\", 200, 0)\n",
    "        else:\n",
    "            get_lambda(pc, 6, 3, \"!=\", 5, 0)\n",
    "            get_lambda(pc, 7, 5, \"None\", -1, \"X\")\n",
    "    else:\n",
    "        get_lambda(pc, 2, 1, \"!=\", 26, 0)\n",
    "        get_lambda(pc, 6, 3, \"None\", -1, \"X\")\n",
    "        get_lambda(pc, 7, 5, \"None\", -1, \"X\")\n",
    "\n",
    "    return pc\n"
   ]
  }
 ],
 "metadata": {
  "kernelspec": {
   "display_name": "Python 3",
   "language": "python",
   "name": "python3"
  },
  "language_info": {
   "codemirror_mode": {
    "name": "ipython",
    "version": 3
   },
   "file_extension": ".py",
   "mimetype": "text/x-python",
   "name": "python",
   "nbconvert_exporter": "python",
   "pygments_lexer": "ipython3",
   "version": "3.7.1"
  }
 },
 "nbformat": 4,
 "nbformat_minor": 2
}
