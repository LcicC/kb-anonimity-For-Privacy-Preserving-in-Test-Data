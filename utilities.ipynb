{
 "cells": [
  {
   "cell_type": "code",
   "execution_count": null,
   "metadata": {},
   "outputs": [],
   "source": [
    "import numpy as np\n",
    "import csv"
   ]
  },
  {
   "cell_type": "code",
   "execution_count": null,
   "metadata": {},
   "outputs": [],
   "source": [
    "def list_to_string(l):\n",
    "\n",
    "    s = \"\"\n",
    "    for k in l:\n",
    "        s += str(k[2])\n",
    "    return s\n",
    "\n",
    "def read_csv(data_path):\n",
    "\n",
    "    # Read data from file\n",
    "    with open(data_path, 'r') as f:\n",
    "        reader = csv.reader(f, delimiter=';')\n",
    "        # get header from first row\n",
    "        headers = next(reader)\n",
    "        # get all the rows as a list\n",
    "        data = list(reader)\n",
    "        # transform data into numpy array\n",
    "        data = np.array(data).astype(float)\n",
    "        return data"
   ]
  },
  {
   "cell_type": "code",
   "execution_count": null,
   "metadata": {},
   "outputs": [],
   "source": [
    "def same_path_no_tuple_repeat(bucket):\n",
    "    \n",
    "    constraints = []\n",
    "    for entry in bucket:\n",
    "        constraints.append([5, lambda x: x != entry[5], 1])\n",
    "    return constraints    \n",
    "          "
   ]
  },
  {
   "cell_type": "code",
   "execution_count": null,
   "metadata": {},
   "outputs": [],
   "source": [
    "def get_constraints(index, constraints):\n",
    "    \n",
    "    temp_const = []\n",
    "    for entry in constraints:\n",
    "        if (entry[0] == index):\n",
    "            temp_const.append(entry)\n",
    "    return temp_const        \n",
    "            "
   ]
  },
  {
   "cell_type": "code",
   "execution_count": 5,
   "metadata": {},
   "outputs": [],
   "source": [
    "def check_constraints(val, constraints):\n",
    "    \n",
    "    is_valid = True\n",
    "    \n",
    "    for i in range(0, len(constraints)):\n",
    "        temp = constraints[i][1](val)\n",
    "        \n",
    "        if (str(type(temp)) == \"<class 'int'>\"):\n",
    "            if (temp != val):\n",
    "                val = temp\n",
    "                i = 0\n",
    "        else:\n",
    "            if(not(temp)):\n",
    "                is_valid = False\n",
    "                break\n",
    "                \n",
    "    return [is_valid, val]           \n",
    "    \n",
    "    "
   ]
  },
  {
   "cell_type": "code",
   "execution_count": null,
   "metadata": {},
   "outputs": [],
   "source": []
  }
 ],
 "metadata": {
  "kernelspec": {
   "display_name": "Python 3",
   "language": "python",
   "name": "python3"
  },
  "language_info": {
   "codemirror_mode": {
    "name": "ipython",
    "version": 3
   },
   "file_extension": ".py",
   "mimetype": "text/x-python",
   "name": "python",
   "nbconvert_exporter": "python",
   "pygments_lexer": "ipython3",
   "version": "3.7.1"
  }
 },
 "nbformat": 4,
 "nbformat_minor": 2
}
