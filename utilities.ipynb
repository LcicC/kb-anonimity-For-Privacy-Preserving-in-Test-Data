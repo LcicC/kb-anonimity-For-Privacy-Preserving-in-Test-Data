{
 "cells": [
  {
   "cell_type": "code",
   "execution_count": 1,
   "metadata": {
    "scrolled": true
   },
   "outputs": [
    {
     "ename": "ModuleNotFoundError",
     "evalue": "No module named 'user_variables'",
     "output_type": "error",
     "traceback": [
      "\u001b[1;31m---------------------------------------------------------------------------\u001b[0m",
      "\u001b[1;31mModuleNotFoundError\u001b[0m                       Traceback (most recent call last)",
      "\u001b[1;32m<ipython-input-1-eb9f65ad6b1e>\u001b[0m in \u001b[0;36m<module>\u001b[1;34m\u001b[0m\n\u001b[0;32m      2\u001b[0m \u001b[1;32mimport\u001b[0m \u001b[0mrandom\u001b[0m\u001b[1;33m\u001b[0m\u001b[1;33m\u001b[0m\u001b[0m\n\u001b[0;32m      3\u001b[0m \u001b[1;32mimport\u001b[0m \u001b[0mcsv\u001b[0m\u001b[1;33m\u001b[0m\u001b[1;33m\u001b[0m\u001b[0m\n\u001b[1;32m----> 4\u001b[1;33m \u001b[1;32mfrom\u001b[0m \u001b[0muser_variables\u001b[0m \u001b[1;32mimport\u001b[0m \u001b[0mattr_to_change\u001b[0m\u001b[1;33m,\u001b[0m \u001b[0mattr_with_max_dom\u001b[0m\u001b[1;33m\u001b[0m\u001b[1;33m\u001b[0m\u001b[0m\n\u001b[0m",
      "\u001b[1;31mModuleNotFoundError\u001b[0m: No module named 'user_variables'"
     ]
    }
   ],
   "source": [
    "import numpy as np\n",
    "import random\n",
    "import csv\n",
    "from user_variables import attr_to_change, attr_with_max_dom"
   ]
  },
  {
   "cell_type": "code",
   "execution_count": null,
   "metadata": {},
   "outputs": [],
   "source": [
    "\"\"\" Self made exception with one parameter \"\"\"\n",
    "\n",
    "class CardinalityException(Exception):\n",
    "    def __init__(self, attr):\n",
    "        self.attr = attr\n",
    "        "
   ]
  },
  {
   "cell_type": "code",
   "execution_count": 2,
   "metadata": {},
   "outputs": [],
   "source": [
    "\"\"\" Takes a full list of path conditions and returns the first element as string \"\"\"\n",
    "\n",
    "def list_to_string(l):\n",
    "\n",
    "    s = \"\"\n",
    "    for k in l:\n",
    "        s += str(k[2])\n",
    "    return s\n",
    "\n",
    "def read_csv(data_path):\n",
    "\n",
    "    # Read data from file\n",
    "    with open(data_path, 'r') as f:\n",
    "        reader = csv.reader(f, delimiter=';')\n",
    "        # get header from first row\n",
    "        headers = next(reader)\n",
    "        # get all the rows as a list\n",
    "        data = list(reader)\n",
    "        # transform data into numpy array\n",
    "        data = np.array(data).astype(float)\n",
    "        return data\n",
    "    "
   ]
  },
  {
   "cell_type": "code",
   "execution_count": null,
   "metadata": {},
   "outputs": [],
   "source": [
    "''' Implementation of PT algorithm '''\n",
    "\n",
    "# Each tuple of the dataset must have a unique value for the attribute with highest cardinality\n",
    "def same_path_no_tuple_repeat(bucket):\n",
    "    \n",
    "    # Select the attribute with highest cardinality \n",
    "    attr = attr_with_max_dom[\"attr\"]\n",
    "    # Build the set of constraints for a given buckets\n",
    "    constraints = []\n",
    "    for entry in bucket:\n",
    "        if (not check_duplicate(constraints, attr, entry[attr])):\n",
    "            # Append new lambda while avoiding repeating same triplets\n",
    "            constraints.append([attr, lambda x, val = entry[attr]: x != val, 1])\n",
    "    return constraints    \n",
    "          "
   ]
  },
  {
   "cell_type": "code",
   "execution_count": null,
   "metadata": {},
   "outputs": [],
   "source": [
    "''' Implementation of PF algorithm '''\n",
    "\n",
    "# For each tuple and for each field there must be a unique value\n",
    "def same_path_no_field_repeat(data):\n",
    "    \n",
    "    # Build the set of constraints for the whole dataset\n",
    "    constraints = []\n",
    "    for field in attr_to_change:\n",
    "        for entry in data:\n",
    "            if (not check_duplicate(constraints, int(field), int(entry[int(field)]))):\n",
    "                # Append new lambda while avoiding repeating same triplets\n",
    "                constraints.append([int(field), lambda x, val = int(entry[int(field)]): x != val, 1])\n",
    "    return constraints \n",
    "    "
   ]
  },
  {
   "cell_type": "code",
   "execution_count": null,
   "metadata": {},
   "outputs": [],
   "source": [
    "\"\"\" Check for duplicated lambda functions \"\"\"\n",
    "\n",
    "def check_duplicate(constraints, field, value):\n",
    "    for entry in constraints:\n",
    "        if (entry[0] == field):\n",
    "            # If the lambda returns false it means that if we added a new one we would have duplicated entries in constraints\n",
    "            if (not entry[1](value)):\n",
    "                return True\n",
    "    return False\n"
   ]
  },
  {
   "cell_type": "code",
   "execution_count": null,
   "metadata": {},
   "outputs": [],
   "source": [
    "\"\"\" Remove constraints from the global_constraints list \"\"\"\n",
    "\n",
    "def remove_constraints(global_constraints, attr):\n",
    "    \n",
    "    for i in range(0, len(global_constraints)):\n",
    "        if (global_constraints[i][0] == attr):\n",
    "            # Remove a constraint for a given attribute since we don't have duplicates\n",
    "            global_constraints.pop(i)\n",
    "            return\n",
    "    raise Exception(\"No more constraints to delete for attribute: \" + str(attr))    \n"
   ]
  },
  {
   "cell_type": "code",
   "execution_count": null,
   "metadata": {},
   "outputs": [],
   "source": [
    "\"\"\" Return the sub-array of constraints with only those that involve a given attribute \"\"\"\n",
    "\n",
    "def get_constraints(index, constraints):\n",
    "    \n",
    "    temp_const = []\n",
    "    for entry in constraints:\n",
    "        if (entry[0] == index):\n",
    "            temp_const.append(entry)\n",
    "            \n",
    "    return temp_const\n",
    "            "
   ]
  },
  {
   "cell_type": "code",
   "execution_count": 5,
   "metadata": {},
   "outputs": [],
   "source": [
    "\"\"\" Check whether the set of constraints hold on val \"\"\"\n",
    "\n",
    "def check_constraints(val, constraints, attr):\n",
    "    \n",
    "    is_valid = True\n",
    "    \n",
    "    for i in range(0, len(constraints)):\n",
    "        temp = constraints[i][1](val)\n",
    "        \n",
    "        # A lambda returns an integer if it is of type \"==\" since we are obliged not to choose a value randomly\n",
    "        # This works since for a given attribute in a path_condition we can only have a single \"==\" \n",
    "        if (str(type(temp)) == \"<class 'int'>\"):\n",
    "\n",
    "            if (temp != val):\n",
    "                val = temp\n",
    "                i = 0\n",
    "        else:\n",
    "            if(not(temp)):\n",
    "                is_valid = False\n",
    "                break\n",
    "                \n",
    "    return [is_valid, val]           \n"
   ]
  },
  {
   "cell_type": "code",
   "execution_count": null,
   "metadata": {},
   "outputs": [],
   "source": [
    "''' Look for the attribute with the largest range of values '''\n",
    "\n",
    "def set_max_dom():\n",
    "    for attr in attr_to_change:\n",
    "        cardinality = attr_to_change[attr][1] - attr_to_change[attr][0] + 1\n",
    "        if (cardinality > attr_with_max_dom[\"dom_card\"]):\n",
    "            attr_with_max_dom[\"attr\"] = int(attr)\n",
    "            attr_with_max_dom[\"dom_card\"] = cardinality\n",
    "            "
   ]
  },
  {
   "cell_type": "code",
   "execution_count": null,
   "metadata": {},
   "outputs": [],
   "source": [
    "'''Set Lambda function according to op'''\n",
    "\n",
    "def get_lambda(pc, if_id, field, op, val, taken):\n",
    "    pc[if_id][0] = field\n",
    "    pc[if_id][2] = taken\n",
    "    if (op == \"<=\"):\n",
    "        pc[if_id][1] = lambda x, val = val: x <= val\n",
    "    if (op == \"<\"):\n",
    "        pc[if_id][1] = lambda x, val = val: x < val\n",
    "    if (op == \"==\"):\n",
    "        # Return the value we need to preserve\n",
    "        pc[if_id][1] = lambda x, val = val: val\n",
    "    if (op == \"!=\"):\n",
    "        pc[if_id][1] = lambda x, val = val: x != val        \n",
    "    if (op == \">\"):\n",
    "        pc[if_id][1] = lambda x, val = val: x > val\n",
    "    if (op == \">=\"):\n",
    "        pc[if_id][1] = lambda x, val = val: x >= val\n",
    "    if (op == \"None\"):\n",
    "        # Any value will be accepted (X cases inside a path)\n",
    "        pc[if_id][1] = lambda x: True\n",
    "        "
   ]
  },
  {
   "cell_type": "code",
   "execution_count": null,
   "metadata": {},
   "outputs": [],
   "source": [
    "''' Generate a new value according to parameters defined in user_variables '''\n",
    "\n",
    "def gen_value(attr, generated_values):\n",
    "    \n",
    "    try:\n",
    "        \n",
    "        candidate = random.randint(attr_to_change[str(attr)][0], attr_to_change[str(attr)][1])\n",
    "        while(candidate in generated_values):\n",
    "            if (len(generated_values) == (attr_to_change[str(attr)][1] - attr_to_change[str(attr)][0] + 1)):\n",
    "                # Raise exception if we generated any possible value and still check_constraints returns false.\n",
    "                # Special case \"==\": even if we generate a different value we overwrite it with the value of the lambda.\n",
    "                # Assume if (x == 5)... -> lambda x: 5. The exception will be raised until constraints of the kind \n",
    "                # lambda x: x != 5 are removed from the set of global (or bucket) constraints\n",
    "                raise CardinalityException(attr)\n",
    "            candidate = random.randint(attr_to_change[str(attr)][0], attr_to_change[str(attr)][1])\n",
    "            \n",
    "        generated_values.append(candidate)    \n",
    "        return candidate     \n",
    "    \n",
    "    except KeyError:\n",
    "        # The attribute is not inside the attr_to_change dictionary. Thus, we don't need to generate specific values\n",
    "        return 0\n",
    "    "
   ]
  },
  {
   "cell_type": "code",
   "execution_count": null,
   "metadata": {},
   "outputs": [],
   "source": [
    "''' Write the result to a new csv file '''\n",
    "\n",
    "def write_to_file(new_data, filename):\n",
    "    \n",
    "    file = open(filename, \"w\")\n",
    "    writer = csv.writer(file, delimiter = \";\", lineterminator = \"\\n\")\n",
    "\n",
    "\n",
    "    for entry in new_data:\n",
    "        writer.writerow(entry)\n",
    "\n",
    "    file.close()\n",
    "    "
   ]
  }
 ],
 "metadata": {
  "kernelspec": {
   "display_name": "Python 3",
   "language": "python",
   "name": "python3"
  },
  "language_info": {
   "codemirror_mode": {
    "name": "ipython",
    "version": 3
   },
   "file_extension": ".py",
   "mimetype": "text/x-python",
   "name": "python",
   "nbconvert_exporter": "python",
   "pygments_lexer": "ipython3",
   "version": "3.7.1"
  }
 },
 "nbformat": 4,
 "nbformat_minor": 2
}
