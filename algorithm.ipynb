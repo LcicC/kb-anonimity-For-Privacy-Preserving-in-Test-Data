{
 "cells": [
  {
   "cell_type": "code",
   "execution_count": 12,
   "metadata": {},
   "outputs": [],
   "source": [
    "import utilities as util\n",
    "import function_to_test as test"
   ]
  },
  {
   "cell_type": "markdown",
   "metadata": {},
   "source": [
    "# Program execution module"
   ]
  },
  {
   "cell_type": "code",
   "execution_count": 14,
   "metadata": {},
   "outputs": [],
   "source": [
    "def program_execution_module(data, k, number_of_conditions):\n",
    "\n",
    "    buckets = {}\n",
    "    print (len(data))\n",
    "    # For each point i in the dataset call test_program(i) and update the bucket dictionary\n",
    "    for i in data:\n",
    "\n",
    "        path_condition_full = []\n",
    "        for j in range (0, number_of_conditions):\n",
    "            path_condition_full.append([-1, None, 0])\n",
    "        path_condition_full = test.test_program(i, path_condition_full)\n",
    "        path_condition = util.list_to_string(path_condition_full)\n",
    "\n",
    "        try:\n",
    "            buckets[path_condition][\"tuples\"].append(i)\n",
    "        except KeyError:\n",
    "            buckets[path_condition] = {}\n",
    "            buckets[path_condition][\"tuples\"] = []\n",
    "            buckets[path_condition][\"constraints\"] = path_condition_full\n",
    "            buckets[path_condition][\"tuples\"].append(i)\n",
    "\n",
    "            \n",
    "    # Remove buckets with less than k tuples\n",
    "    to_remove = []\n",
    "    for key in buckets:\n",
    "        if (len(buckets[key][\"tuples\"]) < k):\n",
    "            to_remove.append(key)\n",
    "\n",
    "    for i in to_remove:\n",
    "        del buckets[i]\n",
    "    \n",
    "    print(\"Paths\")\n",
    "    for entry in buckets:\n",
    "        print(entry)\n",
    "\n",
    "    return buckets\n",
    "\n",
    "\n",
    "# K-anonymization module\n",
    "\n",
    "\n",
    "\n",
    "# Constraint solver module\n"
   ]
  },
  {
   "cell_type": "markdown",
   "metadata": {},
   "source": [
    "# Costraint generation module"
   ]
  },
  {
   "cell_type": "code",
   "execution_count": null,
   "metadata": {},
   "outputs": [],
   "source": [
    "def constraint_and_data_generation_module(buckets, tuple_length):\n",
    "    \n",
    "    new_data = []\n",
    "    for pc in buckets:\n",
    "        buckets[pc][\"constraints\"].extend(util.same_path_no_tuple_repeat(buckets[pc][\"tuples\"]))\n",
    "        new_data.append(constraint_solver(buckets[pc][\"constraints\"], tuple_length))\n",
    "        \n",
    "    return new_data\n",
    "        \n",
    "        \n",
    "        \n",
    "def constraint_solver(constraints, tuple_length):\n",
    "    new_t = [0] * tuple_length\n",
    "    for i in range(0, tuple_length):\n",
    "        # DEBUG: print(\"attr: \" + str(i))\n",
    "        temp_const = util.get_constraints(i, constraints)\n",
    "        temp_val = test.gen_value(i)\n",
    "        temp_res = util.check_constraints(temp_val, temp_const)\n",
    "        while (not(temp_res[0])):\n",
    "            temp_val = test.gen_value(i)\n",
    "            temp_res = util.check_constraints(temp_val, temp_const)\n",
    "            \n",
    "    \n",
    "        new_t[i] = temp_res[1]\n",
    "        \n",
    "    print(new_t)\n",
    "    \n",
    "    return new_t  "
   ]
  }
 ],
 "metadata": {
  "kernelspec": {
   "display_name": "Python 3",
   "language": "python",
   "name": "python3"
  },
  "language_info": {
   "codemirror_mode": {
    "name": "ipython",
    "version": 3
   },
   "file_extension": ".py",
   "mimetype": "text/x-python",
   "name": "python",
   "nbconvert_exporter": "python",
   "pygments_lexer": "ipython3",
   "version": "3.7.1"
  }
 },
 "nbformat": 4,
 "nbformat_minor": 2
}
