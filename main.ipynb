{
 "cells": [
  {
   "cell_type": "code",
   "execution_count": 1,
   "metadata": {
    "scrolled": true
   },
   "outputs": [
    {
     "name": "stdout",
     "output_type": "stream",
     "text": [
      "importing Jupyter notebook from algorithm.ipynb\n",
      "importing Jupyter notebook from function_to_test.ipynb\n",
      "importing Jupyter notebook from utilities.ipynb\n",
      "importing Jupyter notebook from user_variables.ipynb\n"
     ]
    }
   ],
   "source": [
    "import sys\n",
    "import import_ipynb\n",
    "import algorithm as alg\n",
    "import utilities as util\n",
    "from user_variables import attr_to_change, attr_with_max_dom, attr_relaxed_privacy\n",
    "import time"
   ]
  },
  {
   "cell_type": "markdown",
   "metadata": {},
   "source": [
    "##### Input Params"
   ]
  },
  {
   "cell_type": "code",
   "execution_count": 2,
   "metadata": {},
   "outputs": [],
   "source": [
    "sys.argv = [sys.argv[0]]\n",
    "sys.argv.append(\"Absenteeism_at_work.csv\")\n",
    "sys.argv.append(10) # k\n",
    "sys.argv.append(8) # Number of conditions\n",
    "sys.argv.append('pf') # Option\n"
   ]
  },
  {
   "cell_type": "markdown",
   "metadata": {},
   "source": [
    "# Main Function"
   ]
  },
  {
   "cell_type": "code",
   "execution_count": 3,
   "metadata": {},
   "outputs": [
    {
     "name": "stdout",
     "output_type": "stream",
     "text": [
      "Paths:\n",
      "10111X0X\n",
      "1000XXXX\n",
      "10011XXX\n",
      "110101XX\n",
      "10010XXX\n",
      "000XXXXX\n",
      "110100XX\n",
      "010XX1XX\n",
      "001XXX0X\n",
      "10110X0X\n",
      "10111X10\n",
      "1100X1XX\n",
      "1010XX0X\n",
      "1010XX11\n",
      "\n",
      "Dataset size: 740, number of paths: 14\n",
      "Option = pf, k = 1\n",
      "Execution Time: 0.22689461708068848\n",
      "\n",
      "[0, 26, 0, 3, 0, 215, 0, 0, 26, 0, 0, 0, 0, 2, 1, 0, 0, 81, 0, 0, 0]\n",
      "[0, 20, 0, 3, 0, 201, 0, 0, 45, 0, 0, 0, 0, 2, 1, 0, 0, 107, 0, 0, 0]\n",
      "[0, 20, 0, 3, 0, 319, 0, 0, 26, 0, 0, 0, 0, 2, 1, 0, 0, 103, 0, 0, 0]\n",
      "[0, 20, 0, 3, 0, 324, 0, 0, 35, 0, 0, 0, 0, 2, 1, 1, 0, 61, 0, 0, 0]\n",
      "[0, 20, 0, 3, 0, 139, 0, 0, 26, 0, 0, 0, 0, 2, 1, 0, 0, 62, 0, 0, 0]\n",
      "[0, 20, 0, 3, 0, 197, 0, 0, 45, 0, 0, 0, 0, 2, 0, 0, 0, 101, 0, 0, 0]\n",
      "[0, 20, 0, 3, 0, 340, 0, 0, 35, 0, 0, 0, 0, 0, 1, 1, 0, 59, 0, 0, 0]\n",
      "[0, 20, 0, 3, 0, 302, 0, 0, 45, 0, 0, 0, 0, 2, 0, 1, 0, 102, 0, 0, 0]\n",
      "[0, 26, 0, 3, 0, 307, 0, 0, 26, 0, 0, 0, 0, 2, 0, 0, 0, 107, 0, 0, 0]\n",
      "[0, 26, 0, 3, 0, 399, 0, 0, 25, 0, 0, 0, 0, 2, 1, 0, 0, 54, 0, 0, 0]\n",
      "[0, 26, 0, 5, 0, 131, 0, 0, 26, 0, 0, 0, 0, 2, 1, 0, 0, 81, 0, 0, 0]\n",
      "[0, 20, 0, 3, 0, 286, 0, 0, 56, 0, 0, 0, 0, 2, 1, 1, 0, 66, 0, 0, 0]\n",
      "[0, 26, 0, 3, 0, 144, 0, 0, 54, 0, 0, 0, 0, 2, 1, 0, 0, 91, 0, 0, 0]\n",
      "[0, 26, 0, 5, 0, 315, 0, 0, 52, 0, 0, 0, 0, 2, 1, 0, 0, 85, 0, 0, 0]\n"
     ]
    }
   ],
   "source": [
    "# Input params\n",
    "\n",
    "if (len(sys.argv) < 4):\n",
    "    sys.exit(\"Not enough arguments\")\n",
    "\n",
    "k = int(sys.argv[2])\n",
    "number_of_conditions = int(sys.argv[3])\n",
    "option = sys.argv[4]\n",
    "\n",
    "\n",
    "# Load Dataset\n",
    "\n",
    "data_path = sys.argv[1]\n",
    "data = util.read_csv(data_path)\n",
    "tuple_length = len(data[0])\n",
    "\n",
    "\n",
    "# Set gloabal variables\n",
    "\n",
    "util.set_max_dom()\n",
    "\n",
    "if (option == \"pf\"):\n",
    "    attr_relaxed_privacy[str(attr_with_max_dom[\"attr\"])] = 0\n",
    "    \n",
    "\n",
    "# Program Execution Module\n",
    "\n",
    "start = time.time()\n",
    "\n",
    "buckets = alg.program_execution_module(data, k, number_of_conditions)\n",
    "\n",
    "\n",
    "# Constraint generation and solver module\n",
    "\n",
    "new_data = alg.constraint_and_data_generation_module(data, buckets, tuple_length, option)\n",
    "\n",
    "end = time.time()\n",
    "\n",
    "print(\"\\nDataset size: \" + str(len(data)) + \", number of paths: \" + str(len(new_data)))\n",
    "print(\"Option = \" + option + \", k = \" + str(k))\n",
    "print(\"Execution Time: \" + str(end-start) + \"\\n\")\n",
    "\n",
    "for entry in new_data:\n",
    "    print(entry)"
   ]
  },
  {
   "cell_type": "code",
   "execution_count": 4,
   "metadata": {},
   "outputs": [
    {
     "name": "stdout",
     "output_type": "stream",
     "text": [
      "Paths:\n",
      "10111X0X\n",
      "1000XXXX\n",
      "10011XXX\n",
      "110101XX\n",
      "10010XXX\n",
      "000XXXXX\n",
      "110100XX\n",
      "010XX1XX\n",
      "001XXX0X\n",
      "10110X0X\n",
      "10111X10\n",
      "1100X1XX\n",
      "1010XX0X\n",
      "1010XX11\n"
     ]
    }
   ],
   "source": [
    "# Test if behaviour is preserved\n",
    "\n",
    "new_buckets = alg.program_execution_module(new_data, 1, number_of_conditions)"
   ]
  },
  {
   "cell_type": "code",
   "execution_count": 10,
   "metadata": {},
   "outputs": [],
   "source": [
    "# Write result to csv file\n",
    "\n",
    "write_to_file(new_data, \"Anonymized_\" + data_path)\n"
   ]
  },
  {
   "cell_type": "code",
   "execution_count": null,
   "metadata": {},
   "outputs": [],
   "source": []
  }
 ],
 "metadata": {
  "celltoolbar": "Tags",
  "kernelspec": {
   "display_name": "Python 3",
   "language": "python",
   "name": "python3"
  },
  "language_info": {
   "codemirror_mode": {
    "name": "ipython",
    "version": 3
   },
   "file_extension": ".py",
   "mimetype": "text/x-python",
   "name": "python",
   "nbconvert_exporter": "python",
   "pygments_lexer": "ipython3",
   "version": "3.7.1"
  }
 },
 "nbformat": 4,
 "nbformat_minor": 2
}
