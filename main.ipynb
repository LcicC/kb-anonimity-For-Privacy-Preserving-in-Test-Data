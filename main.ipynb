{
 "cells": [
  {
   "cell_type": "code",
   "execution_count": 126,
   "metadata": {
    "scrolled": true
   },
   "outputs": [],
   "source": [
    "import sys\n",
    "import import_ipynb\n",
    "import algorithm as alg\n",
    "import utilities as util\n",
    "import numpy as np\n",
    "from user_variables import attr_to_change, attr_with_max_dom, attr_relaxed_privacy, number_of_conditions\n",
    "import time"
   ]
  },
  {
   "cell_type": "markdown",
   "metadata": {},
   "source": [
    "##### Input Params"
   ]
  },
  {
   "cell_type": "code",
   "execution_count": 127,
   "metadata": {},
   "outputs": [],
   "source": [
    "sys.argv = [sys.argv[0]]\n",
    "sys.argv.append(\"Absenteeism_at_work.csv\")\n",
    "sys.argv.append(10) # k\n",
    "sys.argv.append('pt') # Option\n"
   ]
  },
  {
   "cell_type": "markdown",
   "metadata": {},
   "source": [
    "# Main Function"
   ]
  },
  {
   "cell_type": "code",
   "execution_count": 128,
   "metadata": {},
   "outputs": [],
   "source": [
    "# Input params\n",
    "\n",
    "if (len(sys.argv) < 3):\n",
    "    sys.exit(\"Not enough arguments\")\n",
    "\n",
    "k = int(sys.argv[2])\n",
    "option = sys.argv[3]\n",
    "\n",
    "\n",
    "# Load Dataset\n",
    "\n",
    "start = time.time()\n",
    "\n",
    "data_path = sys.argv[1]\n",
    "data = util.read_csv(data_path)\n",
    "    \n",
    "tuple_length = len(data[0])\n",
    "\n",
    "end  = time.time()\n",
    "\n",
    "time_load_dataset = (end - start)"
   ]
  },
  {
   "cell_type": "code",
   "execution_count": 129,
   "metadata": {},
   "outputs": [],
   "source": [
    "# Extend the dataset with itself so to simulate a bigger dataset\n",
    "for i in range(0,10):\n",
    "    data = np.concatenate((data,data))"
   ]
  },
  {
   "cell_type": "code",
   "execution_count": 130,
   "metadata": {},
   "outputs": [
    {
     "name": "stdout",
     "output_type": "stream",
     "text": [
      "Paths:\n",
      "\n",
      "10111X0X\n",
      "1000XXXX\n",
      "10011XXX\n",
      "110101XX\n",
      "10010XXX\n",
      "000XXXXX\n",
      "110100XX\n",
      "010XX1XX\n",
      "001XXX0X\n",
      "10110X0X\n",
      "10111X10\n",
      "1100X1XX\n",
      "1010XX0X\n",
      "1010XX11\n",
      "\n",
      "Dataset size: 757760, number of paths: 14\n",
      "Option = pt, k = 10\n",
      "\n",
      "Execution Time for loading dataset: 0.023970842361450195\n",
      "Execution Time for buckets creation: 6.84642767906189\n",
      "Execution Time for creating new data: 0.8281693458557129\n",
      "Total Execution Time: 7.698567867279053\n",
      "\n",
      "[0, 26, 0, 6, 0, 387, 0, 0, 30, 0, 0, 0, 0, 3, 1, 0, 0, 81, 0, 0, 0]\n",
      "[0, 10, 0, 5, 0, 293, 0, 0, 53, 0, 0, 0, 0, 1, 1, 0, 0, 105, 0, 0, 0]\n",
      "[0, 11, 0, 2, 0, 203, 0, 0, 33, 0, 0, 0, 0, 0, 1, 0, 0, 107, 0, 0, 0]\n",
      "[0, 24, 0, 3, 0, 333, 0, 0, 33, 0, 0, 0, 0, 4, 1, 1, 0, 54, 0, 0, 0]\n",
      "[0, 19, 0, 4, 0, 388, 0, 0, 30, 0, 0, 0, 0, 3, 1, 0, 0, 78, 0, 0, 0]\n",
      "[0, 5, 0, 4, 0, 323, 0, 0, 34, 0, 0, 0, 0, 0, 0, 0, 0, 75, 0, 0, 0]\n",
      "[0, 6, 0, 5, 0, 326, 0, 0, 26, 0, 0, 0, 0, 0, 1, 1, 0, 72, 0, 0, 0]\n",
      "[0, 24, 0, 5, 0, 185, 0, 0, 54, 0, 0, 0, 0, 4, 0, 1, 0, 63, 0, 0, 0]\n",
      "[0, 26, 0, 3, 0, 112, 0, 0, 55, 0, 0, 0, 0, 3, 0, 0, 0, 98, 0, 0, 0]\n",
      "[0, 26, 0, 4, 0, 100, 0, 0, 31, 0, 0, 0, 0, 2, 1, 0, 0, 56, 0, 0, 0]\n",
      "[0, 26, 0, 5, 0, 119, 0, 0, 34, 0, 0, 0, 0, 4, 1, 0, 0, 103, 0, 0, 0]\n",
      "[0, 3, 0, 6, 0, 321, 0, 0, 59, 0, 0, 0, 0, 1, 1, 1, 0, 95, 0, 0, 0]\n",
      "[0, 26, 0, 3, 0, 375, 0, 0, 43, 0, 0, 0, 0, 4, 1, 0, 0, 77, 0, 0, 0]\n",
      "[0, 26, 0, 5, 0, 356, 0, 0, 48, 0, 0, 0, 0, 4, 1, 0, 0, 55, 0, 0, 0]\n"
     ]
    }
   ],
   "source": [
    "# Set gloabal variables\n",
    "\n",
    "util.set_max_dom()\n",
    "\n",
    "if (option == \"pf\"):\n",
    "    attr_relaxed_privacy[str(attr_with_max_dom[\"attr\"])] = 0\n",
    "    \n",
    "\n",
    "# Program Execution Module\n",
    "\n",
    "start = time.time()\n",
    "\n",
    "buckets = alg.program_execution_module(data, k, number_of_conditions)\n",
    "\n",
    "end = time.time()\n",
    "\n",
    "time_buckets_gen = (end - start)\n",
    "\n",
    "# Constraint generation and solver module\n",
    "\n",
    "start = time.time()\n",
    "\n",
    "new_data = alg.constraint_and_data_generation_module(data, buckets, tuple_length, option)\n",
    "\n",
    "end = time.time()\n",
    "\n",
    "time_new_data_gen = (end - start)\n",
    "\n",
    "time_total = time_load_dataset + time_buckets_gen + time_new_data_gen\n",
    "\n",
    "print(\"\\nDataset size: \" + str(len(data)) + \", number of paths: \" + str(len(new_data)))\n",
    "print(\"Option = \" + option + \", k = \" + str(k))\n",
    "print(\"\\nExecution Time for loading dataset: \" + str(time_load_dataset))\n",
    "print(\"Execution Time for buckets creation: \" + str(time_buckets_gen))\n",
    "print(\"Execution Time for creating new data: \" + str(time_new_data_gen))\n",
    "print(\"Total Execution Time: \" + str(time_total) + \"\\n\")\n",
    "\n",
    "for entry in new_data:\n",
    "    print(entry)"
   ]
  },
  {
   "cell_type": "code",
   "execution_count": null,
   "metadata": {},
   "outputs": [],
   "source": []
  },
  {
   "cell_type": "code",
   "execution_count": null,
   "metadata": {},
   "outputs": [],
   "source": [
    "# Test if behaviour is preserved\n",
    "\n",
    "new_buckets = alg.program_execution_module(new_data, 1, number_of_conditions)"
   ]
  },
  {
   "cell_type": "code",
   "execution_count": null,
   "metadata": {},
   "outputs": [],
   "source": [
    "# Write result to csv file\n",
    "\n",
    "util.write_to_file(new_data, \"Anonymized_\" + data_path)\n"
   ]
  },
  {
   "cell_type": "code",
   "execution_count": null,
   "metadata": {},
   "outputs": [],
   "source": []
  }
 ],
 "metadata": {
  "celltoolbar": "Tags",
  "kernelspec": {
   "display_name": "Python 3",
   "language": "python",
   "name": "python3"
  },
  "language_info": {
   "codemirror_mode": {
    "name": "ipython",
    "version": 3
   },
   "file_extension": ".py",
   "mimetype": "text/x-python",
   "name": "python",
   "nbconvert_exporter": "python",
   "pygments_lexer": "ipython3",
   "version": "3.7.1"
  }
 },
 "nbformat": 4,
 "nbformat_minor": 2
}
