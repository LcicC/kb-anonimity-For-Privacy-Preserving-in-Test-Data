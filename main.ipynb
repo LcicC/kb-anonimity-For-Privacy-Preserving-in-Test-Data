{
 "cells": [
  {
   "cell_type": "code",
   "execution_count": 4,
   "metadata": {},
   "outputs": [],
   "source": [
    "import sys\n",
    "import import_ipynb\n",
    "import utilities as util\n",
    "import algorithm as alg"
   ]
  },
  {
   "cell_type": "markdown",
   "metadata": {},
   "source": [
    "##### Input Params"
   ]
  },
  {
   "cell_type": "code",
   "execution_count": 5,
   "metadata": {},
   "outputs": [],
   "source": [
    "sys.argv[1] = 10 # k\n",
    "sys.argv[2] = 8 # Number of conditions"
   ]
  },
  {
   "cell_type": "markdown",
   "metadata": {},
   "source": [
    "# Main Function"
   ]
  },
  {
   "cell_type": "code",
   "execution_count": 6,
   "metadata": {},
   "outputs": [
    {
     "name": "stdout",
     "output_type": "stream",
     "text": [
      "740\n",
      "Paths\n",
      "1000XXXX\n",
      "10011XXX\n",
      "10010XXX\n",
      "000XXXXX\n",
      "010XX1XX\n",
      "1010XX0X\n",
      "[0, 0, 0, 2, 0, 207, 0, 0, 48, 0, 0, 0, 0, 3, 1, 0, 0, 56, 0, 0, 0]\n",
      "[0, 5, 0, 4, 0, 241, 0, 0, 26, 0, 0, 0, 0, 0, 1, 0, 0, 95, 0, 0, 0]\n",
      "[0, 14, 0, 3, 0, 132, 0, 0, 35, 0, 0, 0, 0, 1, 1, 0, 0, 71, 0, 0, 0]\n",
      "[0, 25, 0, 2, 0, 315, 0, 0, 49, 0, 0, 0, 0, 4, 0, 0, 0, 57, 0, 0, 0]\n",
      "[0, 17, 0, 4, 0, 275, 0, 0, 59, 0, 0, 0, 0, 1, 0, 1, 0, 67, 0, 0, 0]\n",
      "[0, 26, 0, 6, 0, 392, 0, 0, 40, 0, 0, 0, 0, 0, 1, 0, 0, 71, 0, 0, 0]\n"
     ]
    }
   ],
   "source": [
    "if (len(sys.argv) < 2):\n",
    "    sys.exit(\"Not enough arguments\")\n",
    "\n",
    "k = int(sys.argv[1])\n",
    "number_of_conditions = int(sys.argv[2])\n",
    "\n",
    "# Load Dataset\n",
    "data_path = \"Absenteeism_at_work.csv\"\n",
    "data = util.read_csv(data_path)\n",
    "tuple_length = len(data[0])\n",
    "\n",
    "# Program Execution Module\n",
    "buckets = alg.program_execution_module(data, k, number_of_conditions)\n",
    "\n",
    "# K-anonymization module\n",
    "\n",
    "# Probably not needed\n",
    "\n",
    "# Constraint generation module\n",
    "\n",
    "new_data = alg.constraint_and_data_generation_module(buckets, tuple_length)\n",
    "\n",
    "\n",
    "\n",
    "# Constraint solver module\n",
    "\n"
   ]
  },
  {
   "cell_type": "code",
   "execution_count": null,
   "metadata": {},
   "outputs": [],
   "source": []
  },
  {
   "cell_type": "code",
   "execution_count": null,
   "metadata": {},
   "outputs": [],
   "source": []
  }
 ],
 "metadata": {
  "celltoolbar": "Tags",
  "kernelspec": {
   "display_name": "Python 3",
   "language": "python",
   "name": "python3"
  },
  "language_info": {
   "codemirror_mode": {
    "name": "ipython",
    "version": 3
   },
   "file_extension": ".py",
   "mimetype": "text/x-python",
   "name": "python",
   "nbconvert_exporter": "python",
   "pygments_lexer": "ipython3",
   "version": "3.7.1"
  }
 },
 "nbformat": 4,
 "nbformat_minor": 2
}
